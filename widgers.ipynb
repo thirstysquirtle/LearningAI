{
 "cells": [
  {
   "cell_type": "code",
   "execution_count": 14,
   "id": "78adbf69-3a11-49cc-ad80-15f120da73ff",
   "metadata": {},
   "outputs": [],
   "source": [
    "import ipywidgets as widgets\n",
    "from IPython.display import clear_output"
   ]
  },
  {
   "cell_type": "code",
   "execution_count": 5,
   "id": "2e7abc91-7696-423a-be29-b9b291b9d40b",
   "metadata": {},
   "outputs": [],
   "source": [
    "bob = widgets.Output(layout={\"border\":\"2px solid black\"})"
   ]
  },
  {
   "cell_type": "code",
   "execution_count": 51,
   "id": "97786a02-cfb5-4fa4-8900-45c7934feffc",
   "metadata": {},
   "outputs": [
    {
     "data": {
      "text/plain": [
       "'test'"
      ]
     },
     "metadata": {},
     "output_type": "display_data"
    },
    {
     "data": {
      "application/vnd.jupyter.widget-view+json": {
       "model_id": "a1f1919d4606417080a8a5322b01b54d",
       "version_major": 2,
       "version_minor": 0
      },
      "text/plain": [
       "Output(layout=Layout(border_bottom='2px solid black', border_left='2px solid black', border_right='2px solid b…"
      ]
     },
     "metadata": {},
     "output_type": "display_data"
    }
   ],
   "source": [
    "display(\"test\")\n",
    "with bob:\n",
    "    display(\"gay\")\n",
    "    bob.clear_output()\n",
    "    display(\"gay\")\n",
    "    display(\"gay\")\n",
    "\n",
    "    \n",
    "display(bob)"
   ]
  },
  {
   "cell_type": "code",
   "execution_count": null,
   "id": "eac789f0-b330-4673-a297-fad32003b3c5",
   "metadata": {},
   "outputs": [],
   "source": []
  },
  {
   "cell_type": "code",
   "execution_count": null,
   "id": "cacec059-9ddc-4fcf-a276-080fde7bbbb4",
   "metadata": {},
   "outputs": [],
   "source": []
  },
  {
   "cell_type": "code",
   "execution_count": null,
   "id": "4930f9e8-bea1-41b3-9765-1a8e231b1a06",
   "metadata": {},
   "outputs": [],
   "source": []
  }
 ],
 "metadata": {
  "kernelspec": {
   "display_name": "Python 3 (ipykernel)",
   "language": "python",
   "name": "python3"
  },
  "language_info": {
   "codemirror_mode": {
    "name": "ipython",
    "version": 3
   },
   "file_extension": ".py",
   "mimetype": "text/x-python",
   "name": "python",
   "nbconvert_exporter": "python",
   "pygments_lexer": "ipython3",
   "version": "3.10.9"
  }
 },
 "nbformat": 4,
 "nbformat_minor": 5
}
