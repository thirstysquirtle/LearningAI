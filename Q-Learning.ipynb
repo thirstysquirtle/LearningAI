{
 "cells": [
  {
   "cell_type": "code",
   "execution_count": 227,
   "id": "a68d5d1e-be27-4920-add7-7bb668d2de2b",
   "metadata": {
    "tags": []
   },
   "outputs": [],
   "source": [
    "import gymnasium as gym\n",
    "import torch as t\n",
    "import torch.nn as nn\n",
    "import numpy as np\n",
    "import matplotlib.pyplot as plt\n",
    "from copy import deepcopy\n",
    "import torch.nn.functional as F\n",
    "import time"
   ]
  },
  {
   "cell_type": "code",
   "execution_count": 228,
   "id": "ec412ab8-38f9-4a08-b716-405a3b6738d7",
   "metadata": {},
   "outputs": [],
   "source": []
  },
  {
   "cell_type": "code",
   "execution_count": 229,
   "id": "37e62f9c-183a-43e4-85e2-038fea9ae954",
   "metadata": {},
   "outputs": [],
   "source": [
    "device=\"cpu\"\n",
    "\n",
    "def f32t(data, device=device):\n",
    "    return t.tensor(data, device=device, dtype=t.float32)\n",
    "\n",
    "def int64t(data, device=device):\n",
    "    return t.tensor(data, device=device, dtype=t.int64)\n",
    "\n",
    "def sampleQ(QValues):\n",
    "    total = t.sum(t.cat(QValues))\n",
    "    action_probs = f32t([abs(i.item()/total) for i in QValues])\n",
    "    # print(action_probs)\n",
    "    action_index = t.distributions.Categorical(action_probs).sample()\n",
    "    # print(action_index)\n",
    "    return QValues[action_index], action_index.item()\n",
    "\n",
    "def maxQ(QValues, exploration_rate=0.2):\n",
    "    if np.random.random() <= exploration_rate:\n",
    "        action_index = np.random.randint(0,2)\n",
    "        return QValues[action_index], action_index\n",
    "    elif QValues[0].item() > QValues[1].item():\n",
    "        return QValues[0], 0\n",
    "    else:\n",
    "        return QValues[1], 1\n",
    "\n",
    "\n",
    "def Calculate_Q_Labels(actions_R, total_reward, discount=0.99, mature=False):\n",
    "    Q_Labels = []\n",
    "    for i in actions_R: \n",
    "        Q_Label = i + (total_reward - i) * discount\n",
    "        if mature and Q_Label < i:\n",
    "            Q_Labels.append(i)\n",
    "        else:\n",
    "            Q_Labels.append(Q_Label)\n",
    "    return Q_Labels\n",
    "\n",
    "class Model(nn.Module):\n",
    "    def __init__(self):\n",
    "        super(Model, self).__init__()\n",
    "        self.network = nn.Sequential(\n",
    "        nn.Linear(6, 128),\n",
    "        nn.ReLU(),\n",
    "        nn.Linear(128,1)\n",
    "        )\n",
    "        self.device = device\n",
    "    \n",
    "    def forward(self, action, state):\n",
    "        return self.network(t.cat([F.one_hot(int64t(action), num_classes=2), f32t(state)]))"
   ]
  },
  {
   "cell_type": "code",
   "execution_count": 230,
   "id": "2622de09-a92e-45bb-9b1e-1f3331095f70",
   "metadata": {
    "tags": []
   },
   "outputs": [],
   "source": [
    "q_net = Model().to(device)\n",
    "optimizer = t.optim.Adam(q_net.parameters(), lr=0.1)"
   ]
  },
  {
   "cell_type": "code",
   "execution_count": 240,
   "id": "cd121b8d-a992-4e31-8242-4713ce7f9ebb",
   "metadata": {
    "tags": []
   },
   "outputs": [
    {
     "name": "stdout",
     "output_type": "stream",
     "text": [
      "Start Time: 19:46:38---End Time: 19:46:39\n",
      "Duration = 1.0 seconds\n",
      "Average  10.0\n"
     ]
    }
   ],
   "source": [
    "optimizer = t.optim.Adam(q_net.parameters(), lr=0.01)\n",
    "q_net.to(device)\n",
    "\n",
    "def trainQ(optimizer, episode_reward, actions_R, actions_Q):\n",
    "    predictions = t.stack(actions_Q)\n",
    "    labels = Calculate_Q_Labels(actions_R, episode_reward, mature=False, discount=0.99)\n",
    "    labels = f32t(labels).unsqueeze(dim=1)\n",
    "    loss = F.mse_loss(predictions, labels)\n",
    "    \n",
    "    loss.backward()\n",
    "    optimizer.step()\n",
    "    \n",
    "    optimizer.zero_grad()\n",
    "    return loss.item()\n",
    "\n",
    "\n",
    "env = gym.make(\"CartPole-v1\", render_mode=\"human\")\n",
    "state, _ = env.reset()\n",
    "env._max_episode_steps = 8000\n",
    "env.render()\n",
    "\n",
    "episode_reward = 0\n",
    "episodes = 1\n",
    "rewards_per_episode = np.empty(episodes)\n",
    "loss_per_episode = np.empty(episodes)\n",
    "i = 0\n",
    "actions_Q = []\n",
    "actions_R = []\n",
    "\n",
    "start_time = time.localtime(time.time())\n",
    "with t.no_grad():\n",
    "    while i < episodes:\n",
    "        Q_Values = [q_net(action, state) for action in range(env.action_space.n)]\n",
    "        chosen_Q, action = maxQ(Q_Values, exploration_rate=0.0)\n",
    "        state, reward, terminated, truncated, _ = env.step(action)\n",
    "        episode_reward = episode_reward + reward\n",
    "        actions_Q.append(chosen_Q)\n",
    "        actions_R.append(episode_reward)\n",
    "        print(episode_reward, end=\"\\r\")\n",
    "\n",
    "        if terminated or truncated:\n",
    "            # loss_per_episode[i] = trainQ(optimizer, episode_reward, actions_R, actions_Q)\n",
    "            state, _ = env.reset()\n",
    "            env._max_episode_steps = 1000\n",
    "            rewards_per_episode[i] = episode_reward\n",
    "            print(episode_reward, i, end=\"\\r\")\n",
    "            episode_reward = 0\n",
    "            actions_Q = []\n",
    "            actions_R = []\n",
    "            i = i + 1\n",
    "    \n",
    "end_time = time.localtime(time.time())\n",
    "print(\"Start Time: \" + time.strftime(\"%H:%M:%S\", start_time), end=\"---\")\n",
    "print(\"End Time: \" + time.strftime(\"%H:%M:%S\", end_time))\n",
    "print(f\"Duration = {time.mktime(end_time) - time.mktime(start_time)} seconds\")\n",
    "\n",
    "env.close()\n",
    "print(\"Average \", np.average(rewards_per_episode))\n",
    "# plt.plot(rewards_per_episode)\n",
    "# plt.show()\n",
    "# plt.plot(loss_per_episode)\n",
    "# plt.show()\n",
    "# plt.close()"
   ]
  },
  {
   "cell_type": "code",
   "execution_count": 64,
   "id": "3f8b66d2-0b7a-4cdc-8620-a50cea6ba89b",
   "metadata": {
    "tags": []
   },
   "outputs": [
    {
     "data": {
      "text/plain": [
       "tensor([ 0.,  1., 45., 12.])"
      ]
     },
     "execution_count": 64,
     "metadata": {},
     "output_type": "execute_result"
    }
   ],
   "source": [
    "t.cat([F.one_hot(int64t(1), num_classes=2), f32t([45,12])])"
   ]
  },
  {
   "cell_type": "code",
   "execution_count": 6,
   "id": "687f03c3-e2d7-4202-b07e-71a80acba671",
   "metadata": {
    "tags": []
   },
   "outputs": [
    {
     "data": {
      "text/plain": [
       "tensor([0, 1])"
      ]
     },
     "execution_count": 6,
     "metadata": {},
     "output_type": "execute_result"
    }
   ],
   "source": [
    "F.one_hot(int64t(1), num_classes=2)"
   ]
  },
  {
   "cell_type": "code",
   "execution_count": 53,
   "id": "026e905d-5169-4435-ba29-2fdeed5a1d05",
   "metadata": {
    "tags": []
   },
   "outputs": [
    {
     "data": {
      "text/plain": [
       "tensor(1, dtype=torch.uint8)"
      ]
     },
     "execution_count": 53,
     "metadata": {},
     "output_type": "execute_result"
    }
   ],
   "source": [
    "uint8t(1)"
   ]
  },
  {
   "cell_type": "code",
   "execution_count": 38,
   "id": "c3861c2e-ddad-492a-8ac4-3d5c42c3e7e4",
   "metadata": {
    "tags": []
   },
   "outputs": [
    {
     "data": {
      "text/plain": [
       "tensor(1)"
      ]
     },
     "execution_count": 38,
     "metadata": {},
     "output_type": "execute_result"
    }
   ],
   "source": [
    "t.tensor(1)"
   ]
  },
  {
   "cell_type": "code",
   "execution_count": 17,
   "id": "6ac6ca99-5038-4b19-9817-c222b4e73637",
   "metadata": {
    "tags": []
   },
   "outputs": [
    {
     "ename": "TypeError",
     "evalue": "'int' object is not iterable",
     "output_type": "error",
     "traceback": [
      "\u001b[0;31m---------------------------------------------------------------------------\u001b[0m",
      "\u001b[0;31mTypeError\u001b[0m                                 Traceback (most recent call last)",
      "Cell \u001b[0;32mIn[17], line 1\u001b[0m\n\u001b[0;32m----> 1\u001b[0m \u001b[38;5;28;01mfor\u001b[39;00m i \u001b[38;5;129;01min\u001b[39;00m env\u001b[38;5;241m.\u001b[39maction_space\u001b[38;5;241m.\u001b[39mn:\n\u001b[1;32m      2\u001b[0m     \u001b[38;5;28mprint\u001b[39m(i)\n",
      "\u001b[0;31mTypeError\u001b[0m: 'int' object is not iterable"
     ]
    }
   ],
   "source": [
    "for i in env.action_space.n:\n",
    "    print(i)"
   ]
  },
  {
   "cell_type": "code",
   "execution_count": 15,
   "id": "55e7b14c-4407-48a0-a4a6-ef3ada0b1781",
   "metadata": {
    "tags": []
   },
   "outputs": [],
   "source": [
    "listw = []\n",
    "\n",
    "for i in range(6):\n",
    "    tensor, _ = sampleQ([f32t([1]),f32t([4])]) \n",
    "    listw.append(tensor)"
   ]
  },
  {
   "cell_type": "code",
   "execution_count": 16,
   "id": "ad4f8b40-9c55-4abf-84b3-d0fb3b2c4943",
   "metadata": {},
   "outputs": [
    {
     "data": {
      "text/plain": [
       "[tensor([4.]),\n",
       " tensor([1.]),\n",
       " tensor([1.]),\n",
       " tensor([4.]),\n",
       " tensor([4.]),\n",
       " tensor([4.])]"
      ]
     },
     "execution_count": 16,
     "metadata": {},
     "output_type": "execute_result"
    }
   ],
   "source": [
    "listw"
   ]
  },
  {
   "cell_type": "code",
   "execution_count": 19,
   "id": "cd9c16b0-4fd4-4729-908f-e8b86539dfc3",
   "metadata": {
    "tags": []
   },
   "outputs": [],
   "source": [
    "main = t.stack(listw)"
   ]
  },
  {
   "cell_type": "code",
   "execution_count": 20,
   "id": "cbf218ff-c12a-4e65-a850-6ce34fc8fd5e",
   "metadata": {
    "tags": []
   },
   "outputs": [
    {
     "data": {
      "text/plain": [
       "tensor([[4.],\n",
       "        [1.],\n",
       "        [1.],\n",
       "        [4.],\n",
       "        [4.],\n",
       "        [4.]])"
      ]
     },
     "execution_count": 20,
     "metadata": {},
     "output_type": "execute_result"
    }
   ],
   "source": [
    "main"
   ]
  },
  {
   "cell_type": "code",
   "execution_count": 21,
   "id": "adf5b3f4-cc29-4193-9f49-8f26054f9db3",
   "metadata": {
    "tags": []
   },
   "outputs": [],
   "source": [
    "label = t.clone(main)"
   ]
  },
  {
   "cell_type": "code",
   "execution_count": 23,
   "id": "f3a7b812-edb9-42c1-b199-72bec6068dcd",
   "metadata": {
    "tags": []
   },
   "outputs": [
    {
     "data": {
      "text/plain": [
       "tensor(0.)"
      ]
     },
     "execution_count": 23,
     "metadata": {},
     "output_type": "execute_result"
    }
   ],
   "source": [
    "F.mse_loss(main, label)"
   ]
  },
  {
   "cell_type": "code",
   "execution_count": 43,
   "id": "4bb52833-d12a-465e-8217-33c09e5ae3a8",
   "metadata": {
    "tags": []
   },
   "outputs": [],
   "source": [
    "def trainQ(optimizer, episode_reward, actions_R, actions_Q):\n",
    "    # predictions = t.stack(actions_Q)\n",
    "    labels = [ i + (episode_reward-i)*0.99 for i in actions_R]\n",
    "    print(f32t(labels).unsqueeze(dim=1))"
   ]
  },
  {
   "cell_type": "code",
   "execution_count": 45,
   "id": "d1db70c9-db86-4735-82c8-b57e1c6afb6c",
   "metadata": {
    "tags": []
   },
   "outputs": [
    {
     "name": "stdout",
     "output_type": "stream",
     "text": [
      "tensor([[ 9.9500],\n",
      "        [ 9.9700],\n",
      "        [10.0000]])\n"
     ]
    }
   ],
   "source": [
    "trainQ(5, 10, [5,7,10], [1,2])"
   ]
  },
  {
   "cell_type": "code",
   "execution_count": 106,
   "id": "46437c16-251b-4a5a-bdce-03712798a05d",
   "metadata": {
    "tags": []
   },
   "outputs": [
    {
     "name": "stdout",
     "output_type": "stream",
     "text": [
      "(tensor(5.), 0)\n",
      "(tensor(5.), 0)\n",
      "(tensor(5.), 0)\n",
      "(tensor(7.), 1)\n",
      "(tensor(7.), 1)\n",
      "(tensor(7.), 1)\n",
      "(tensor(7.), 1)\n",
      "(tensor(7.), 1)\n",
      "(tensor(7.), 1)\n",
      "(tensor(7.), 1)\n"
     ]
    }
   ],
   "source": [
    "for i in range(10):\n",
    "    print(maxQ([f32t(5), f32t(7)]))"
   ]
  },
  {
   "cell_type": "code",
   "execution_count": 79,
   "id": "ad76f94b-a98f-4699-9914-141c21c3df16",
   "metadata": {
    "tags": []
   },
   "outputs": [
    {
     "data": {
      "text/plain": [
       "0.1962596718405013"
      ]
     },
     "execution_count": 79,
     "metadata": {},
     "output_type": "execute_result"
    }
   ],
   "source": [
    "np.random.random()"
   ]
  },
  {
   "cell_type": "code",
   "execution_count": 90,
   "id": "43d8ae0c-a7df-42e4-9b88-e1e404f0ea64",
   "metadata": {
    "tags": []
   },
   "outputs": [
    {
     "data": {
      "text/plain": [
       "0"
      ]
     },
     "execution_count": 90,
     "metadata": {},
     "output_type": "execute_result"
    }
   ],
   "source": [
    "np.random.randint(0,2)"
   ]
  },
  {
   "cell_type": "code",
   "execution_count": 117,
   "id": "aee0be1b-7f90-4d04-85e1-5fe0c30b1dac",
   "metadata": {
    "tags": []
   },
   "outputs": [
    {
     "data": {
      "text/plain": [
       "500"
      ]
     },
     "execution_count": 117,
     "metadata": {},
     "output_type": "execute_result"
    }
   ],
   "source": [
    "env._max_episode_steps"
   ]
  },
  {
   "cell_type": "code",
   "execution_count": null,
   "id": "0d4b716b-ca96-4d88-83fd-e088f3a47a15",
   "metadata": {},
   "outputs": [],
   "source": []
  }
 ],
 "metadata": {
  "kernelspec": {
   "display_name": "Python 3 (ipykernel)",
   "language": "python",
   "name": "python3"
  },
  "language_info": {
   "codemirror_mode": {
    "name": "ipython",
    "version": 3
   },
   "file_extension": ".py",
   "mimetype": "text/x-python",
   "name": "python",
   "nbconvert_exporter": "python",
   "pygments_lexer": "ipython3",
   "version": "3.10.9"
  }
 },
 "nbformat": 4,
 "nbformat_minor": 5
}
