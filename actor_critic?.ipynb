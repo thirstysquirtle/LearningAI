{
 "cells": [
  {
   "cell_type": "code",
   "execution_count": 1,
   "id": "a68d5d1e-be27-4920-add7-7bb668d2de2b",
   "metadata": {
    "tags": []
   },
   "outputs": [],
   "source": [
    "import gymnasium as gym\n",
    "import torch as t\n",
    "import torch.nn as nn\n",
    "import numpy as np\n",
    "import matplotlib.pyplot as plt\n",
    "from copy import deepcopy"
   ]
  },
  {
   "cell_type": "code",
   "execution_count": null,
   "id": "ec412ab8-38f9-4a08-b716-405a3b6738d7",
   "metadata": {},
   "outputs": [],
   "source": [
    "env = gym.make(\"CartPole-v1\", render_mode=None)\n",
    "device = \"cpu\""
   ]
  },
  {
   "cell_type": "code",
   "execution_count": null,
   "id": "37e62f9c-183a-43e4-85e2-038fea9ae954",
   "metadata": {},
   "outputs": [],
   "source": [
    "class Model(nn.Module):\n",
    "    def __init__(self, device):\n",
    "        super(Model, self).__init__()\n",
    "        self.network = nn.Sequential(\n",
    "        nn.Linear(4, 128),\n",
    "        nn.ReLU(),\n",
    "        nn.Linear(128,2),\n",
    "        nn.Softmax()\n",
    "        )\n",
    "        self.device = device\n",
    "    \n",
    "    def forward(self, x):\n",
    "        return self.network(x.to(self.device))\n",
    "\n",
    "\n"
   ]
  }
 ],
 "metadata": {
  "kernelspec": {
   "display_name": "Python 3 (ipykernel)",
   "language": "python",
   "name": "python3"
  },
  "language_info": {
   "codemirror_mode": {
    "name": "ipython",
    "version": 3
   },
   "file_extension": ".py",
   "mimetype": "text/x-python",
   "name": "python",
   "nbconvert_exporter": "python",
   "pygments_lexer": "ipython3",
   "version": "3.10.9"
  }
 },
 "nbformat": 4,
 "nbformat_minor": 5
}
